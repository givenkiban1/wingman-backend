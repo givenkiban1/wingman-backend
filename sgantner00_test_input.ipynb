{
 "cells": [
  {
   "cell_type": "code",
   "execution_count": 9,
   "metadata": {},
   "outputs": [],
   "source": [
    "import pandas as pd"
   ]
  },
  {
   "cell_type": "code",
   "execution_count": 10,
   "metadata": {},
   "outputs": [],
   "source": [
    "data = pd.read_csv('wingman_data_proc_v5.csv')"
   ]
  },
  {
   "cell_type": "code",
   "execution_count": 14,
   "metadata": {},
   "outputs": [],
   "source": [
    "keys  = data.columns[1:]\n",
    "\n",
    "values = [6, 1, 2, 5835, 1670, 2215, 110, 18, 1, 0, 0, 0, 0, 0, 0, 1, 0, 0, 0, 0, \n",
    "          0, 0, 0, 1, 0, 0, 0, 0, 0, 0, 1, 0, 0, 0, 1, 0, 0, 1, 0, 0, 0, 1, 0, 0, \n",
    "          1, 0, 0, 1, 0, 1, 0, 0, 1, 1, 0, 1, 0, 0]"
   ]
  },
  {
   "cell_type": "code",
   "execution_count": 15,
   "metadata": {},
   "outputs": [
    {
     "data": {
      "text/plain": [
       "(58, 58)"
      ]
     },
     "execution_count": 15,
     "metadata": {},
     "output_type": "execute_result"
    }
   ],
   "source": [
    "len(keys), len(values)"
   ]
  },
  {
   "cell_type": "code",
   "execution_count": 16,
   "metadata": {},
   "outputs": [],
   "source": [
    "test_params = dict(zip(keys, values))"
   ]
  },
  {
   "cell_type": "code",
   "execution_count": 17,
   "metadata": {},
   "outputs": [
    {
     "data": {
      "text/plain": [
       "{'subcategory_no': 6,\n",
       " 'num_eng': 1,\n",
       " 'total_seats': 2,\n",
       " 'afm_hrs': 5835,\n",
       " 'cert_max_gr_wt': 1670,\n",
       " 'dprt_time': 2215,\n",
       " 'power_units': 110,\n",
       " 'flight_hours_mean': 18,\n",
       " 'certs_held': 1,\n",
       " 'second_pilot': 0,\n",
       " 'site_seeing': 0,\n",
       " 'air_medical': 0,\n",
       " 'crew_sex': 0,\n",
       " 'type_last_insp_100H': 0,\n",
       " 'type_last_insp_AAIP': 0,\n",
       " 'type_last_insp_ANNL': 1,\n",
       " 'type_last_insp_COAW': 0,\n",
       " 'type_last_insp_COND': 0,\n",
       " 'type_last_insp_UNK': 0,\n",
       " '_AAPL': 0,\n",
       " '_AOBV': 0,\n",
       " '_BUS ': 0,\n",
       " '_FLTS': 0,\n",
       " '_INST': 1,\n",
       " '_OWRK': 0,\n",
       " '_Other': 0,\n",
       " '_PERS': 0,\n",
       " '_POSI': 0,\n",
       " '_UNK': 0,\n",
       " 'eng_mfgr_CONTINENTAL': 0,\n",
       " 'eng_mfgr_LYCOMING': 1,\n",
       " 'eng_mfgr_P&W': 0,\n",
       " 'eng_mfgr_ROTAX': 0,\n",
       " 'eng_mfgr_infrequent_sklearn': 0,\n",
       " 'far_part_091': 1,\n",
       " 'far_part_infrequent_sklearn': 0,\n",
       " 'acft_make_BEECH': 0,\n",
       " 'acft_make_CESSNA': 1,\n",
       " 'acft_make_PIPER': 0,\n",
       " 'acft_make_infrequent_sklearn': 0,\n",
       " 'fixed_retractable_RETR': 0,\n",
       " 'acft_category_AIR': 1,\n",
       " 'acft_category_infrequent_sklearn': 0,\n",
       " 'homebuilt': 0,\n",
       " 'crew_category_DSTU': 1,\n",
       " 'crew_category_FLTI': 0,\n",
       " 'crew_category_PLT': 0,\n",
       " 'eng_type_REC': 1,\n",
       " 'eng_type_infrequent_sklearn': 0,\n",
       " 'carb_fuel_injection_CARB': 1,\n",
       " 'carb_fuel_injection_FINJ': 0,\n",
       " 'carb_fuel_injection_UNK': 0,\n",
       " 'dprt_apt_id': 1,\n",
       " 'dest_apt_id': 1,\n",
       " 'flt_plan_filed_IFR': 0,\n",
       " 'flt_plan_filed_NONE': 1,\n",
       " 'flt_plan_filed_VFR': 0,\n",
       " 'pc_profession': 0}"
      ]
     },
     "execution_count": 17,
     "metadata": {},
     "output_type": "execute_result"
    }
   ],
   "source": [
    "test_params"
   ]
  }
 ],
 "metadata": {
  "kernelspec": {
   "display_name": "wingman",
   "language": "python",
   "name": "python3"
  },
  "language_info": {
   "codemirror_mode": {
    "name": "ipython",
    "version": 3
   },
   "file_extension": ".py",
   "mimetype": "text/x-python",
   "name": "python",
   "nbconvert_exporter": "python",
   "pygments_lexer": "ipython3",
   "version": "3.10.6"
  },
  "orig_nbformat": 4
 },
 "nbformat": 4,
 "nbformat_minor": 2
}
